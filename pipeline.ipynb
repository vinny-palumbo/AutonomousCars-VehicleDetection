{
 "cells": [
  {
   "cell_type": "markdown",
   "metadata": {},
   "source": [
    "# **Vehicle Detection for Autonomous Cars** \n",
    "***\n",
    "\n",
    "**Note: If, at any point, you encounter frozen display windows or other confounding issues, you can always start again with a clean slate by going to the \"Kernel\" menu above and selecting \"Restart & Clear Output\".**\n",
    "\n",
    "---"
   ]
  },
  {
   "cell_type": "markdown",
   "metadata": {},
   "source": [
    "**Run the cell below to import some packages.  If you get an `import error` for a package you've already installed, try changing your kernel (select the Kernel menu above --> Change Kernel).  Still have problems?  Try relaunching Jupyter Notebook from the terminal prompt."
   ]
  },
  {
   "cell_type": "markdown",
   "metadata": {},
   "source": [
    "### Import Packages"
   ]
  },
  {
   "cell_type": "code",
   "execution_count": null,
   "metadata": {
    "collapsed": true
   },
   "outputs": [],
   "source": [
    "#importing some useful packages\n",
    "import matplotlib.pyplot as plt\n",
    "import matplotlib.image as mpimg\n",
    "import numpy as np\n",
    "import cv2\n",
    "%matplotlib inline"
   ]
  },
  {
   "cell_type": "markdown",
   "metadata": {},
   "source": [
    "## Test Vehicle Detection in Images\n",
    "\n",
    "Built my pipeline to work on the images in the directory \"test_images\""
   ]
  },
  {
   "cell_type": "code",
   "execution_count": null,
   "metadata": {},
   "outputs": [],
   "source": [
    "import os\n",
    "\n",
    "# print test images file name\n",
    "test_images_names = os.listdir(\"test_images/\")\n",
    "print(test_images_names)"
   ]
  },
  {
   "cell_type": "markdown",
   "metadata": {
    "collapsed": true
   },
   "source": [
    "### Read in the Test Image\n",
    "I'll test each step of my pipeline on the following test image"
   ]
  },
  {
   "cell_type": "code",
   "execution_count": null,
   "metadata": {},
   "outputs": [],
   "source": [
    "#reading in a test image\n",
    "test_image = mpimg.imread('test_images/test4.jpg')\n",
    "\n",
    "# printing out some stats and plotting\n",
    "print('This image is:', type(test_image), 'with dimesions:', test_image.shape)\n",
    "plt.imshow(test_image) "
   ]
  },
  {
   "cell_type": "markdown",
   "metadata": {},
   "source": [
    "### Draw Boxes Manually to Prototype\n",
    "This function takes an image, a list of bounding boxes, and optional color tuple and line thickness as inputs and then draws boxes in that color on the output"
   ]
  },
  {
   "cell_type": "code",
   "execution_count": null,
   "metadata": {
    "collapsed": true
   },
   "outputs": [],
   "source": [
    "def draw_boxes(img, bboxes, color=(255, 0, 0), thick=6):\n",
    "    # make a copy of the image\n",
    "    draw_img = np.copy(img)\n",
    "    # draw each bounding box on your image copy using cv2.rectangle()\n",
    "    for bbox in bboxes:\n",
    "            cv2.rectangle(draw_img, bbox[0], bbox[1], color, thick)\n",
    "    # return the image copy with boxes drawn\n",
    "    return draw_img "
   ]
  },
  {
   "cell_type": "markdown",
   "metadata": {},
   "source": [
    "Test drawing boxes on the test image"
   ]
  },
  {
   "cell_type": "code",
   "execution_count": null,
   "metadata": {},
   "outputs": [],
   "source": [
    "# manually set the coordinates of the vehicule boxes \n",
    "bboxes = [((951, 498), (803, 409)), ((1276, 512), (1043, 401))]\n",
    "\n",
    "result = draw_boxes(test_image, bboxes)\n",
    "plt.imshow(result)"
   ]
  },
  {
   "cell_type": "markdown",
   "metadata": {},
   "source": [
    "## Vehicle Feature Extraction"
   ]
  },
  {
   "cell_type": "markdown",
   "metadata": {},
   "source": [
    "Test Feature Extraction on this test vehicle image"
   ]
  },
  {
   "cell_type": "code",
   "execution_count": null,
   "metadata": {},
   "outputs": [],
   "source": [
    "#reading in a vehicle test image\n",
    "test_vehicle_image = mpimg.imread('test_images/feature-extraction/7.png')\n",
    "plt.imshow(test_vehicle_image) "
   ]
  },
  {
   "cell_type": "markdown",
   "metadata": {},
   "source": [
    "### Binned Color Feature Extraction\n",
    "This function extracts Binned Color features of an image"
   ]
  },
  {
   "cell_type": "code",
   "execution_count": null,
   "metadata": {
    "collapsed": true
   },
   "outputs": [],
   "source": [
    "# Define a function to compute binned color features  \n",
    "def bin_spatial(img, size=(32, 32)):\n",
    "    # Use cv2.resize().ravel() to create the feature vector\n",
    "    features = cv2.resize(img, size).ravel() \n",
    "    # Return the feature vector\n",
    "    return features"
   ]
  },
  {
   "cell_type": "markdown",
   "metadata": {},
   "source": [
    "Test Binned Color Feature Extraction on a test image"
   ]
  },
  {
   "cell_type": "code",
   "execution_count": null,
   "metadata": {},
   "outputs": [],
   "source": [
    "# Define Binned Color Feature Extraction parameters\n",
    "test_size = (32,32)\n",
    "\n",
    "test_features_binned_color = bin_spatial(test_vehicle_image, test_size)\n",
    "\n",
    "# Plot an example of raw and binned color features\n",
    "fig = plt.figure(figsize=(12,4))\n",
    "plt.subplot(131)\n",
    "plt.imshow(test_vehicle_image)\n",
    "plt.title('Original Image')\n",
    "plt.subplot(132)\n",
    "plt.plot(test_features_binned_color)\n",
    "plt.title('Binned Color Features')\n",
    "fig.tight_layout()"
   ]
  },
  {
   "cell_type": "markdown",
   "metadata": {},
   "source": [
    "### Histogram-of-Colors Feature Extraction"
   ]
  },
  {
   "cell_type": "markdown",
   "metadata": {},
   "source": [
    "This function extracts histogram-of-colors features of an image"
   ]
  },
  {
   "cell_type": "code",
   "execution_count": null,
   "metadata": {
    "collapsed": true
   },
   "outputs": [],
   "source": [
    "def color_hist(img, nbins=32, bins_range=(0, 256)):\n",
    "    # Compute the histogram of the color channels separately\n",
    "    channel1_hist = np.histogram(img[:,:,0], bins=nbins, range=bins_range)\n",
    "    channel2_hist = np.histogram(img[:,:,1], bins=nbins, range=bins_range)\n",
    "    channel3_hist = np.histogram(img[:,:,2], bins=nbins, range=bins_range)\n",
    "    # Concatenate the histograms into a single feature vector\n",
    "    hist_features = np.concatenate((channel1_hist[0], channel2_hist[0], channel3_hist[0]))\n",
    "    # Return the individual histograms, bin_centers and feature vector\n",
    "    return hist_features"
   ]
  },
  {
   "cell_type": "markdown",
   "metadata": {},
   "source": [
    "Plot Histogram of Color-Space feature extraction of Test Image"
   ]
  },
  {
   "cell_type": "code",
   "execution_count": null,
   "metadata": {},
   "outputs": [],
   "source": [
    "# Define HOC parameters\n",
    "test_hist_bins =32\n",
    "test_bins_range=(0, 256)\n",
    "\n",
    "test_features_hoc = color_hist(test_vehicle_image, test_hist_bins, test_bins_range)\n",
    "\n",
    "# Plot an example of raw and histogram-of-color features\n",
    "fig = plt.figure(figsize=(12,4))\n",
    "plt.subplot(131)\n",
    "plt.imshow(test_vehicle_image)\n",
    "plt.title('Original Image')\n",
    "plt.subplot(132)\n",
    "plt.plot(test_features_hoc)\n",
    "plt.title('Histogram of Color feature')\n",
    "fig.tight_layout()"
   ]
  },
  {
   "cell_type": "markdown",
   "metadata": {},
   "source": [
    "### Histogram-of-Gradients Feature Extraction\n",
    "This function takes in a vehicle image and returns a Histogram of Gradients feature vector of an image"
   ]
  },
  {
   "cell_type": "code",
   "execution_count": null,
   "metadata": {
    "collapsed": true
   },
   "outputs": [],
   "source": [
    "from skimage.feature import hog\n",
    "\n",
    "# Define a function to return HOG features and visualization\n",
    "def get_hog_features(img, orient, pix_per_cell, cell_per_block, \n",
    "                        vis=False, feature_vec=True):\n",
    "    # Call with two outputs if vis==True\n",
    "    if vis == True:\n",
    "        features, hog_image = hog(img, orientations=orient, \n",
    "                                  pixels_per_cell=(pix_per_cell, pix_per_cell),\n",
    "                                  cells_per_block=(cell_per_block, cell_per_block), \n",
    "                                  transform_sqrt=True, \n",
    "                                  visualise=vis, feature_vector=feature_vec)\n",
    "        return features, hog_image\n",
    "    # Otherwise call with one output\n",
    "    else:      \n",
    "        features = hog(img, orientations=orient, \n",
    "                       pixels_per_cell=(pix_per_cell, pix_per_cell),\n",
    "                       cells_per_block=(cell_per_block, cell_per_block), \n",
    "                       transform_sqrt=True, \n",
    "                       visualise=vis, feature_vector=feature_vec)\n",
    "        return features\n",
    "        "
   ]
  },
  {
   "cell_type": "markdown",
   "metadata": {},
   "source": [
    "Test the Histogram of Gradient feature extraction on a test image and Visualize HOG Image"
   ]
  },
  {
   "cell_type": "code",
   "execution_count": null,
   "metadata": {},
   "outputs": [],
   "source": [
    "# Define HOG parameters\n",
    "test_orient = 8\n",
    "test_pix_per_cell = 8\n",
    "test_cell_per_block = 2\n",
    "test_hog_channel = 0\n",
    "\n",
    "# Call our function with vis=True to see an image output\n",
    "test_features_hog, hog_image = get_hog_features(test_vehicle_image[:,:,test_hog_channel], test_orient, \n",
    "                        test_pix_per_cell, test_cell_per_block, \n",
    "                        vis=True, feature_vec=False)\n",
    "\n",
    "# Plot an example of raw and HOG Image\n",
    "fig = plt.figure(figsize=(12,4))\n",
    "plt.subplot(131)\n",
    "plt.imshow(test_vehicle_image)\n",
    "plt.title('Original Image')\n",
    "plt.subplot(132)\n",
    "plt.imshow(hog_image, cmap='gray')\n",
    "plt.title('HOG Visualization')\n",
    "fig.tight_layout()"
   ]
  },
  {
   "cell_type": "markdown",
   "metadata": {},
   "source": [
    "Plot Histogram of Gradient feature extraction"
   ]
  },
  {
   "cell_type": "code",
   "execution_count": null,
   "metadata": {},
   "outputs": [],
   "source": [
    "test_features_hog = test_features_hog.ravel() \n",
    "\n",
    "# Plot an example of raw and gradient features\n",
    "fig = plt.figure(figsize=(12,4))\n",
    "plt.subplot(131)\n",
    "plt.imshow(test_vehicle_image)\n",
    "plt.title('Original Image')\n",
    "plt.subplot(132)\n",
    "plt.plot(test_features_hog)\n",
    "plt.title('Histogram of Gradient features')\n",
    "fig.tight_layout()"
   ]
  },
  {
   "cell_type": "markdown",
   "metadata": {},
   "source": [
    "### Extract combined Binned Color, HOC and HOG Features"
   ]
  },
  {
   "cell_type": "markdown",
   "metadata": {},
   "source": [
    "This function extracts the combined Binned Color, Histogram-of-Color and Histogram-of-Gradient features of a single image"
   ]
  },
  {
   "cell_type": "code",
   "execution_count": null,
   "metadata": {
    "collapsed": true
   },
   "outputs": [],
   "source": [
    "def single_img_features(img, color_space='RGB', spatial_size=(32, 32),\n",
    "                        hist_bins=32, orient=9, \n",
    "                        pix_per_cell=8, cell_per_block=2, hog_channel=0,\n",
    "                        spatial_feat=True, hist_feat=True, hog_feat=True):    \n",
    "    # Define an empty list to receive features\n",
    "    img_features = []\n",
    "    # Apply color conversion if other than 'RGB'\n",
    "    if color_space != 'RGB':\n",
    "        if color_space == 'HSV':\n",
    "            feature_image = cv2.cvtColor(img, cv2.COLOR_RGB2HSV)\n",
    "        elif color_space == 'LUV':\n",
    "            feature_image = cv2.cvtColor(img, cv2.COLOR_RGB2LUV)\n",
    "        elif color_space == 'HLS':\n",
    "            feature_image = cv2.cvtColor(img, cv2.COLOR_RGB2HLS)\n",
    "        elif color_space == 'YUV':\n",
    "            feature_image = cv2.cvtColor(img, cv2.COLOR_RGB2YUV)\n",
    "        elif color_space == 'YCrCb':\n",
    "            feature_image = cv2.cvtColor(img, cv2.COLOR_RGB2YCrCb)\n",
    "    else: feature_image = np.copy(img)      \n",
    "    # Compute spatial features if flag is set\n",
    "    if spatial_feat == True:\n",
    "        spatial_features = bin_spatial(feature_image, size=spatial_size)\n",
    "        # Append features to list\n",
    "        img_features.append(spatial_features)\n",
    "    # Compute histogram features if flag is set\n",
    "    if hist_feat == True:\n",
    "        hist_features = color_hist(feature_image, nbins=hist_bins)\n",
    "        # Append features to list\n",
    "        img_features.append(hist_features)\n",
    "    # Compute HOG features if flag is set\n",
    "    if hog_feat == True:\n",
    "        if hog_channel == 'ALL':\n",
    "            hog_features = []\n",
    "            for channel in range(feature_image.shape[2]):\n",
    "                hog_features.extend(get_hog_features(feature_image[:,:,channel], \n",
    "                                    orient, pix_per_cell, cell_per_block, \n",
    "                                    vis=False, feature_vec=True))      \n",
    "        else:\n",
    "            hog_features = get_hog_features(feature_image[:,:,hog_channel], orient, \n",
    "                        pix_per_cell, cell_per_block, vis=False, feature_vec=True)\n",
    "        # Append features to list\n",
    "        img_features.append(hog_features)\n",
    "\n",
    "    # Return concatenated array of features\n",
    "    return img_features"
   ]
  },
  {
   "cell_type": "markdown",
   "metadata": {},
   "source": [
    "Test combining Binned Color, HOC and HOG Features on the Test Image"
   ]
  },
  {
   "cell_type": "code",
   "execution_count": null,
   "metadata": {},
   "outputs": [],
   "source": [
    "test_color_space = 'LUV'\n",
    "\n",
    "test_features_combined = single_img_features(test_vehicle_image, test_color_space, test_size,\n",
    "                        test_hist_bins, test_orient, \n",
    "                        test_pix_per_cell, test_cell_per_block, test_hog_channel,\n",
    "                        spatial_feat=True, hist_feat=True, hog_feat=True)\n",
    "\n",
    "test_features_combined_plot = np.concatenate(test_features_combined)\n",
    "\n",
    "# Plot an example of raw and combined features\n",
    "fig = plt.figure(figsize=(12,4))\n",
    "plt.subplot(131)\n",
    "plt.imshow(test_vehicle_image)\n",
    "plt.title('Original Image')\n",
    "plt.subplot(132)\n",
    "plt.plot(test_features_combined_plot)\n",
    "plt.title('Combined Features')\n",
    "fig.tight_layout()"
   ]
  },
  {
   "cell_type": "markdown",
   "metadata": {},
   "source": [
    "## Build a Classifier to classify Vehicles and Non-Vehicles"
   ]
  },
  {
   "cell_type": "markdown",
   "metadata": {},
   "source": [
    "### Explore Vehicles and Non-Vehicles Datasets"
   ]
  },
  {
   "cell_type": "markdown",
   "metadata": {},
   "source": [
    "Load Datasets"
   ]
  },
  {
   "cell_type": "code",
   "execution_count": null,
   "metadata": {
    "collapsed": true
   },
   "outputs": [],
   "source": [
    "import glob\n",
    "\n",
    "cars = glob.glob('datasets/cars/**/*.png', recursive=True)\n",
    "notcars = glob.glob('datasets/notcars/**/*.png', recursive=True)"
   ]
  },
  {
   "cell_type": "markdown",
   "metadata": {},
   "source": [
    "This function returns some characteristics of the dataset "
   ]
  },
  {
   "cell_type": "code",
   "execution_count": null,
   "metadata": {},
   "outputs": [],
   "source": [
    "def data_look(car_list, notcar_list):\n",
    "    data_dict = {}\n",
    "    # Define a key in data_dict \"n_cars\" and store the number of car images\n",
    "    data_dict[\"n_cars\"] = len(car_list)\n",
    "    # Define a key \"n_notcars\" and store the number of notcar images\n",
    "    data_dict[\"n_notcars\"] = len(notcar_list)\n",
    "    # Read in a test image, either car or notcar\n",
    "    example_img = mpimg.imread(car_list[0])\n",
    "    # Define a key \"image_shape\" and store the test image shape 3-tuple\n",
    "    data_dict[\"image_shape\"] = example_img.shape\n",
    "    # Define a key \"data_type\" and store the data type of the test image.\n",
    "    data_dict[\"data_type\"] = example_img.dtype\n",
    "    # Return data_dict\n",
    "    return data_dict\n",
    "\n",
    "data_info = data_look(cars, notcars)\n",
    "\n",
    "print('Dataset has', data_info[\"n_cars\"], 'cars and', data_info[\"n_notcars\"], 'non-cars'\n",
    "    ,'\\neach of size: ',data_info[\"image_shape\"], 'and data type:', data_info[\"data_type\"])"
   ]
  },
  {
   "cell_type": "markdown",
   "metadata": {},
   "source": [
    "Plot example images of random car / not-car from the dataset"
   ]
  },
  {
   "cell_type": "code",
   "execution_count": null,
   "metadata": {},
   "outputs": [],
   "source": [
    "# Pick random index\n",
    "test_car_ind = np.random.randint(0, len(cars))\n",
    "test_notcar_ind = np.random.randint(0, len(notcars))\n",
    "    \n",
    "# Read in car / not-car images\n",
    "test_car_image = mpimg.imread(cars[test_car_ind])\n",
    "test_notcar_image = mpimg.imread(notcars[test_notcar_ind])\n",
    "\n",
    "# Plot the examples\n",
    "fig = plt.figure()\n",
    "plt.subplot(121)\n",
    "plt.imshow(test_car_image)\n",
    "plt.title('Example Car Image')\n",
    "plt.subplot(122)\n",
    "plt.imshow(test_notcar_image)\n",
    "plt.title('Example Not-car Image')"
   ]
  },
  {
   "cell_type": "markdown",
   "metadata": {},
   "source": [
    "### Extract Features and Labels from Dataset"
   ]
  },
  {
   "cell_type": "markdown",
   "metadata": {},
   "source": [
    "This function iterates through each image in a dataset and extracts its combined binned color, HOC and HOG features"
   ]
  },
  {
   "cell_type": "code",
   "execution_count": null,
   "metadata": {
    "collapsed": true
   },
   "outputs": [],
   "source": [
    "def extract_features(imgs, color_space='RGB', spatial_size=(32, 32),\n",
    "                        hist_bins=32, orient=9, \n",
    "                        pix_per_cell=8, cell_per_block=2, hog_channel=0,\n",
    "                        spatial_feat=True, hist_feat=True, hog_feat=True):\n",
    "    # Create a list to append feature vectors to\n",
    "    features = []\n",
    "    # Iterate through the list of images\n",
    "    for file in imgs:\n",
    "        # Read in each one by one\n",
    "        image = mpimg.imread(file)\n",
    "        # Extract features of each image in dataset\n",
    "        file_features = single_img_features(image, color_space, spatial_size,\n",
    "                                hist_bins, orient, \n",
    "                                pix_per_cell, cell_per_block, hog_channel,\n",
    "                                spatial_feat=True, hist_feat=True, hog_feat=True)\n",
    "        features.append(np.concatenate(file_features))\n",
    "    # Return list of feature vectors\n",
    "    return features"
   ]
  },
  {
   "cell_type": "markdown",
   "metadata": {},
   "source": [
    "Extract features from the cars and notcars datasets"
   ]
  },
  {
   "cell_type": "code",
   "execution_count": null,
   "metadata": {},
   "outputs": [],
   "source": [
    "# Features Extraction Parameters\n",
    "color_space='LUV'\n",
    "spatial_size=(16, 16)\n",
    "hist_bins=32\n",
    "orient=8\n",
    "pix_per_cell=8\n",
    "cell_per_block=2\n",
    "hog_channel=0\n",
    "spatial_feat=True\n",
    "hist_feat=True\n",
    "hog_feat=True\n",
    "\n",
    "print('Extracting features from the cars and notcars datasets...')\n",
    "car_features = extract_features(cars, color_space, spatial_size, hist_bins, \n",
    "                        orient, pix_per_cell, cell_per_block, hog_channel,\n",
    "                        spatial_feat, hist_feat, hog_feat)\n",
    "\n",
    "notcar_features = extract_features(notcars, color_space, spatial_size, hist_bins, \n",
    "                        orient, pix_per_cell, cell_per_block, hog_channel,\n",
    "                        spatial_feat, hist_feat, hog_feat)\n",
    "\n",
    "print('Successfully extracted features from the cars and notcars datasets.')"
   ]
  },
  {
   "cell_type": "markdown",
   "metadata": {},
   "source": [
    "Create the normalized features vector for the combined dataset"
   ]
  },
  {
   "cell_type": "code",
   "execution_count": null,
   "metadata": {},
   "outputs": [],
   "source": [
    "from sklearn.preprocessing import StandardScaler\n",
    "\n",
    "print('Creating the normalized features vector...')\n",
    "\n",
    "# Create an array stack of feature vectors\n",
    "X = np.vstack((car_features, notcar_features)).astype(np.float64)                        \n",
    "# Fit a per-column scaler\n",
    "X_scaler = StandardScaler().fit(X)\n",
    "# Apply the scaler to X\n",
    "scaled_X = X_scaler.transform(X)\n",
    "\n",
    "print('Successfully created the normalized features vector.')"
   ]
  },
  {
   "cell_type": "markdown",
   "metadata": {},
   "source": [
    "Plot the scaled features of a random car from the dataset"
   ]
  },
  {
   "cell_type": "code",
   "execution_count": null,
   "metadata": {},
   "outputs": [],
   "source": [
    "test_car_features = car_features[test_car_ind]\n",
    "test_car_features_scaled = X_scaler.transform(test_car_features)\n",
    "\n",
    "fig = plt.figure(figsize=(12,4))\n",
    "plt.subplot(131)\n",
    "plt.imshow(mpimg.imread(cars[test_car_ind]))\n",
    "plt.title('Original Image')\n",
    "plt.subplot(132)\n",
    "plt.plot(test_car_features_scaled)\n",
    "plt.title('Car Scaled Features')\n",
    "fig.tight_layout()"
   ]
  },
  {
   "cell_type": "markdown",
   "metadata": {},
   "source": [
    "Plot the scaled features of a random notcar from the dataset"
   ]
  },
  {
   "cell_type": "code",
   "execution_count": null,
   "metadata": {},
   "outputs": [],
   "source": [
    "test_notcar_features = notcar_features[test_notcar_ind]\n",
    "test_notcar_features_scaled = X_scaler.transform(test_notcar_features)\n",
    "\n",
    "fig = plt.figure(figsize=(12,4))\n",
    "plt.subplot(131)\n",
    "plt.imshow(mpimg.imread(notcars[test_notcar_ind]))\n",
    "plt.title('Original Image')\n",
    "plt.subplot(132)\n",
    "plt.plot(test_notcar_features_scaled)\n",
    "plt.title('Notcar Scaled Features')\n",
    "fig.tight_layout()"
   ]
  },
  {
   "cell_type": "markdown",
   "metadata": {},
   "source": [
    "Create the labels vector for the dataset (1's for cars, 0's for non-cars)."
   ]
  },
  {
   "cell_type": "code",
   "execution_count": null,
   "metadata": {
    "collapsed": true
   },
   "outputs": [],
   "source": [
    "y = np.hstack((np.ones(len(car_features)), \n",
    "              np.zeros(len(notcar_features))))"
   ]
  },
  {
   "cell_type": "markdown",
   "metadata": {},
   "source": [
    "Shuffle and split the data into training and testing sets"
   ]
  },
  {
   "cell_type": "code",
   "execution_count": null,
   "metadata": {
    "collapsed": true
   },
   "outputs": [],
   "source": [
    "from sklearn.model_selection import train_test_split\n",
    "\n",
    "# Split up data into randomized training and test sets\n",
    "rand_state = np.random.randint(0, 100)\n",
    "X_train, X_test, y_train, y_test = train_test_split(\n",
    "    scaled_X, y, test_size=0.2, random_state=rand_state)"
   ]
  },
  {
   "cell_type": "markdown",
   "metadata": {},
   "source": [
    "### Support Vector Machine Classifier"
   ]
  },
  {
   "cell_type": "markdown",
   "metadata": {},
   "source": [
    "Build and Train the Classifier"
   ]
  },
  {
   "cell_type": "code",
   "execution_count": null,
   "metadata": {},
   "outputs": [],
   "source": [
    "from sklearn import svm, model_selection\n",
    "\n",
    "print('Training the classifier...')\n",
    "\n",
    "parameters = {'kernel':('linear', 'rbf', 'sigmoid'), 'C':[1, 10, 15]}\n",
    "svr = svm.SVC()\n",
    "clf = model_selection.GridSearchCV(svr, parameters)\n",
    "clf.fit(X_train, y_train)\n",
    "\n",
    "print('Successfully trained the classifier.')\n",
    "print('\\nBest parameters chosen by GridSearchCV:', clf.best_params_)\n",
    "print('Test Accuracy of SVC = ', round(clf.score(X_test, y_test), 4))"
   ]
  },
  {
   "cell_type": "markdown",
   "metadata": {},
   "source": [
    "## Implement Sliding Window Search"
   ]
  },
  {
   "cell_type": "markdown",
   "metadata": {},
   "source": [
    "### Get Sliding Windows\n",
    "This function takes windows start/stop positions, windows size and windows overlap, and returns a list of bounding boxes for the search windows"
   ]
  },
  {
   "cell_type": "code",
   "execution_count": null,
   "metadata": {
    "collapsed": true
   },
   "outputs": [],
   "source": [
    "def slide_window(img, x_start_stop, y_start_stop, \n",
    "                    xy_window, xy_overlap=(0.5, 0.5)):\n",
    "    # Initialize a list to append window positions to\n",
    "    window_list = []\n",
    "    for i in range(len(xy_window)):\n",
    "        # If x and/or y start/stop positions not defined, set to image size\n",
    "        if x_start_stop[i][0] == None:\n",
    "            x_start_stop[i][0] = 0\n",
    "        if x_start_stop[i][1] == None:\n",
    "            x_start_stop[i][1] = img.shape[1]\n",
    "        if y_start_stop[i][0] == None:\n",
    "            y_start_stop[i][0] = 0\n",
    "        if y_start_stop[i][1] == None:\n",
    "            y_start_stop[i][1] = img.shape[0]\n",
    "        # Compute the span of the region to be searched    \n",
    "        xspan = x_start_stop[i][1] - x_start_stop[i][0]\n",
    "        yspan = y_start_stop[i][1] - y_start_stop[i][0]\n",
    "        # Compute the number of pixels per step in x/y\n",
    "        nx_pix_per_step = np.int(xy_window[i][0]*(1 - xy_overlap[0]))\n",
    "        ny_pix_per_step = np.int(xy_window[i][1]*(1 - xy_overlap[1]))\n",
    "        # Compute the number of windows in x/y\n",
    "        nx_buffer = np.int(xy_window[i][0]*(xy_overlap[0]))\n",
    "        ny_buffer = np.int(xy_window[i][1]*(xy_overlap[1]))\n",
    "        nx_windows = np.int((xspan-nx_buffer)/nx_pix_per_step) \n",
    "        ny_windows = np.int((yspan-ny_buffer)/ny_pix_per_step) \n",
    "        # Loop through finding x and y window positions\n",
    "        for ys in range(ny_windows):\n",
    "            for xs in range(nx_windows):\n",
    "                # Calculate window position\n",
    "                startx = xs*nx_pix_per_step + x_start_stop[i][0]\n",
    "                endx = startx + xy_window[i][0]\n",
    "                starty = ys*ny_pix_per_step + y_start_stop[i][0]\n",
    "                endy = starty + xy_window[i][1]\n",
    "                # Append window position to list\n",
    "                window_list.append(((startx, starty), (endx, endy)))\n",
    "    # Return the list of windows\n",
    "    return window_list"
   ]
  },
  {
   "cell_type": "markdown",
   "metadata": {},
   "source": [
    "Draw Search Windows on a Test Image"
   ]
  },
  {
   "cell_type": "code",
   "execution_count": null,
   "metadata": {},
   "outputs": [],
   "source": [
    "# Test image shape\n",
    "image_height = test_image.shape[0]\n",
    "image_width = test_image.shape[1]\n",
    "\n",
    "# Parameters for small windows\n",
    "x_start_stop_small=[0, image_width]\n",
    "y_start_stop_small=[int(image_height*0.55), int(image_height*0.70)]\n",
    "xy_window_small=(96, 96)\n",
    "\n",
    "# Parameters for medium windows\n",
    "x_start_stop_medium=[0, image_width]\n",
    "y_start_stop_medium=[int(image_height*0.55), int(image_height*0.85)]\n",
    "xy_window_medium=(128, 128)\n",
    "\n",
    "# Parameters for large windows\n",
    "x_start_stop_large=[0, image_width]\n",
    "y_start_stop_large=[int(image_height*0.55), int(image_height*0.95)]\n",
    "xy_window_large=(192, 192)\n",
    "\n",
    "# Prepare Parameters for slide_window() function\n",
    "x_start_stop = [x_start_stop_small, x_start_stop_medium, x_start_stop_large]\n",
    "y_start_stop = [y_start_stop_small, y_start_stop_medium, y_start_stop_large]\n",
    "xy_window = [xy_window_small, xy_window_medium, xy_window_large]\n",
    "\n",
    "xy_overlap=(0.85, 0.85)\n",
    "\n",
    "windows = slide_window(test_image, x_start_stop, y_start_stop, \n",
    "                    xy_window, xy_overlap)\n",
    "\n",
    "window_img = draw_boxes(test_image, windows, color=(0, 0, 255), thick=6)                    \n",
    "\n",
    "plt.imshow(window_img)"
   ]
  },
  {
   "cell_type": "markdown",
   "metadata": {},
   "source": [
    "### Search Sliding Windows and Detect Vehicle Windows"
   ]
  },
  {
   "cell_type": "code",
   "execution_count": null,
   "metadata": {
    "collapsed": true
   },
   "outputs": [],
   "source": [
    "def search_windows(img, windows, clf, scaler, color_space='RGB', \n",
    "                    spatial_size=(32, 32), hist_bins=32, \n",
    "                    hist_range=(0, 256), orient=9, \n",
    "                    pix_per_cell=8, cell_per_block=2, \n",
    "                    hog_channel=0, spatial_feat=True, \n",
    "                    hist_feat=True, hog_feat=True):\n",
    "    # Create an empty list to receive positive detection windows\n",
    "    on_windows = []\n",
    "    # Iterate over all windows in the list\n",
    "    for window in windows:\n",
    "        # Extract the test window from original image\n",
    "        img_window = cv2.resize(img[window[0][1]:window[1][1], window[0][0]:window[1][0]], (64, 64))      \n",
    "        # Extract features for that window using single_img_features()\n",
    "        features_window = single_img_features(img_window, color_space, \n",
    "                            spatial_size, hist_bins, \n",
    "                            orient, pix_per_cell, cell_per_block, hog_channel, \n",
    "                            spatial_feat, hist_feat, hog_feat)\n",
    "        features_window_concat = np.concatenate(features_window)\n",
    "        # Scale extracted features to be fed to classifier\n",
    "        features_window_scaled = scaler.transform(np.array(features_window_concat).reshape(1, -1))\n",
    "        # Predict using your classifier\n",
    "        prediction = clf.predict(features_window_scaled)\n",
    "        # If positive (prediction == 1) then save the window\n",
    "        if prediction == 1:\n",
    "            on_windows.append(window)\n",
    "    # Return windows for positive detections\n",
    "    return on_windows"
   ]
  },
  {
   "cell_type": "markdown",
   "metadata": {},
   "source": [
    "Test Detecting Vehicle Windows in Test Image"
   ]
  },
  {
   "cell_type": "code",
   "execution_count": null,
   "metadata": {},
   "outputs": [],
   "source": [
    "# extracted training data from .png images (scaled 0 to 1 by mpimg) \n",
    "# but test images are .jpg (scaled 0 to 255)\n",
    "test_image_corr = test_image.astype(np.float32)/255\n",
    "\n",
    "test_hot_windows = search_windows(test_image_corr, test_windows, clf, X_scaler, color_space=color_space, \n",
    "                        spatial_size=spatial_size, hist_bins=hist_bins, \n",
    "                        orient=orient, pix_per_cell=pix_per_cell, cell_per_block=cell_per_block, hog_channel=hog_channel, \n",
    "                        spatial_feat=spatial_feat, hist_feat=hist_feat, hog_feat=hog_feat)                       \n",
    "\n",
    "test_window_img = draw_boxes(test_image, test_hot_windows, color=(255, 0, 0), thick=6)                    \n",
    "\n",
    "plt.imshow(test_window_img)"
   ]
  },
  {
   "cell_type": "markdown",
   "metadata": {},
   "source": [
    "### Removing False-Positive Windows"
   ]
  },
  {
   "cell_type": "markdown",
   "metadata": {},
   "source": [
    "This function adds \"heat\" to a heat-map for a list of bounding boxes"
   ]
  },
  {
   "cell_type": "code",
   "execution_count": null,
   "metadata": {
    "collapsed": true
   },
   "outputs": [],
   "source": [
    "def add_heat(heatmap, bbox_list):\n",
    "    # Iterate through list of bboxes\n",
    "    for box in bbox_list:\n",
    "        # Add += 1 for all pixels inside each bbox\n",
    "        # Assuming each \"box\" takes the form ((x1, y1), (x2, y2))\n",
    "        heatmap[box[0][1]:box[1][1], box[0][0]:box[1][0]] += 1\n",
    "\n",
    "    # Return updated heatmap\n",
    "    return heatmap"
   ]
  },
  {
   "cell_type": "markdown",
   "metadata": {},
   "source": [
    "This function threshold the heat-map to reject areas affected by false positives"
   ]
  },
  {
   "cell_type": "code",
   "execution_count": null,
   "metadata": {
    "collapsed": true
   },
   "outputs": [],
   "source": [
    "def apply_threshold(heatmap, threshold):\n",
    "    # Zero out pixels below the threshold\n",
    "    heatmap[heatmap <= threshold] = 0\n",
    "    # Return thresholded map\n",
    "    return heatmap"
   ]
  },
  {
   "cell_type": "markdown",
   "metadata": {},
   "source": [
    "Test thresholding the heat-map of the Test Image"
   ]
  },
  {
   "cell_type": "code",
   "execution_count": null,
   "metadata": {},
   "outputs": [],
   "source": [
    "test_heat = np.zeros_like(test_image[:,:,0]).astype(np.float)\n",
    "test_heat = add_heat(test_heat,test_hot_windows)\n",
    "test_heat = apply_threshold(test_heat,2)\n",
    "\n",
    "fig = plt.figure()\n",
    "plt.subplot(121)\n",
    "plt.imshow(test_window_img)\n",
    "plt.title('Hot Windows')\n",
    "plt.subplot(122)\n",
    "plt.imshow(test_heat, cmap='hot')\n",
    "plt.title('Thresholded Heat Map')\n",
    "fig.tight_layout()"
   ]
  },
  {
   "cell_type": "markdown",
   "metadata": {},
   "source": [
    "Figure out how many cars there are in each frame and which pixels belong to which cars"
   ]
  },
  {
   "cell_type": "code",
   "execution_count": null,
   "metadata": {},
   "outputs": [],
   "source": [
    "from scipy.ndimage.measurements import label\n",
    "\n",
    "test_labels = label(test_heat)\n",
    "print(test_labels[1], 'cars found')\n",
    "plt.imshow(test_labels[0], cmap='gray')"
   ]
  },
  {
   "cell_type": "markdown",
   "metadata": {},
   "source": [
    " This function takes the labels image and puts bounding boxes around the labeled regions"
   ]
  },
  {
   "cell_type": "code",
   "execution_count": null,
   "metadata": {
    "collapsed": true
   },
   "outputs": [],
   "source": [
    "def draw_labeled_bboxes(img, labels):\n",
    "    # Iterate through all detected cars\n",
    "    for car_number in range(1, labels[1]+1):\n",
    "        # Find pixels with each car_number label value\n",
    "        nonzero = (labels[0] == car_number).nonzero()\n",
    "        # Identify x and y values of those pixels\n",
    "        nonzeroy = np.array(nonzero[0])\n",
    "        nonzerox = np.array(nonzero[1])\n",
    "        # Define a bounding box based on min/max x and y\n",
    "        bbox = ((np.min(nonzerox), np.min(nonzeroy)), (np.max(nonzerox), np.max(nonzeroy)))\n",
    "        # Draw the box on the image\n",
    "        cv2.rectangle(img, bbox[0], bbox[1], (255,0,0), 6)\n",
    "    # Return the image\n",
    "    return img"
   ]
  },
  {
   "cell_type": "markdown",
   "metadata": {},
   "source": [
    "Test drawing bounding boxes around the labeled regions of the Test Image"
   ]
  },
  {
   "cell_type": "code",
   "execution_count": null,
   "metadata": {},
   "outputs": [],
   "source": [
    "# Draw bounding boxes on a copy of the test image\n",
    "draw_img = draw_labeled_bboxes(np.copy(test_image), test_labels)\n",
    "# Display the image\n",
    "plt.imshow(draw_img)"
   ]
  },
  {
   "cell_type": "markdown",
   "metadata": {},
   "source": [
    "## Combine all the Steps of the Vehicle Detection Pipeline in a Function"
   ]
  },
  {
   "cell_type": "code",
   "execution_count": null,
   "metadata": {},
   "outputs": [],
   "source": [
    "def process_image(image):\n",
    "    \n",
    "    # Extracted training data from .png images (scaled 0 to 1 by mpimg) \n",
    "    # but video images are .jpg (scaled 0 to 255)\n",
    "    image_corr = image.astype(np.float32)/255\n",
    "    \n",
    "    # Detect Hot Windows in corrected image using classifier\n",
    "    hot_windows = search_windows(image_corr, windows, clf, X_scaler, color_space=color_space, \n",
    "                        spatial_size=spatial_size, hist_bins=hist_bins, \n",
    "                        orient=orient, pix_per_cell=pix_per_cell, cell_per_block=cell_per_block, hog_channel=hog_channel, \n",
    "                        spatial_feat=spatial_feat, hist_feat=hist_feat, hog_feat=hog_feat)                          \n",
    "    \n",
    "    # Create Thresholded Heatmap to Remove False-Positive Windows\n",
    "    heatmap = np.zeros_like(image[:,:,0]).astype(np.float)\n",
    "    heatmap = add_heat(heatmap,hot_windows)\n",
    "    heatmap = apply_threshold(heatmap,1)\n",
    "    \n",
    "    # Label the Heatmap regions\n",
    "    labels = label(heatmap)\n",
    "    \n",
    "    # Draw bounding boxes on a copy of the image\n",
    "    image_processed = draw_labeled_bboxes(np.copy(image), labels)\n",
    "    \n",
    "    return image_processed"
   ]
  },
  {
   "cell_type": "markdown",
   "metadata": {},
   "source": [
    "Test entire Vehicle Detection pipeline on another Test Image"
   ]
  },
  {
   "cell_type": "code",
   "execution_count": null,
   "metadata": {},
   "outputs": [],
   "source": [
    "test_image2 = mpimg.imread('test_images/test3.jpg')\n",
    "\n",
    "test_image2_processed = process_image(test_image2)\n",
    "plt.imshow(test_image2_processed)"
   ]
  },
  {
   "cell_type": "markdown",
   "metadata": {},
   "source": [
    "## Test the Vehicle Detection Pipeline on Videos"
   ]
  },
  {
   "cell_type": "code",
   "execution_count": null,
   "metadata": {},
   "outputs": [],
   "source": [
    "# Import everything needed to edit/save/watch video clips\n",
    "from moviepy.editor import VideoFileClip\n",
    "from IPython.display import HTML\n",
    "\n",
    "video_output_name = 'project_video_output.mp4'\n",
    "clip = VideoFileClip(\"project_video.mp4\")\n",
    "video_clip = clip.fl_image(process_image) #NOTE: this function expects color images!!\n",
    "%time video_clip.write_videofile(video_output_name, audio=False)"
   ]
  },
  {
   "cell_type": "markdown",
   "metadata": {},
   "source": [
    "Play the video inline"
   ]
  },
  {
   "cell_type": "code",
   "execution_count": null,
   "metadata": {
    "collapsed": true
   },
   "outputs": [],
   "source": [
    "HTML(\"\"\"\n",
    "<video width=\"640\" height=\"360\" controls>\n",
    "  <source src=\"{0}\">\n",
    "</video>\n",
    "\"\"\".format(video_output_name))"
   ]
  }
 ],
 "metadata": {
  "anaconda-cloud": {},
  "kernelspec": {
   "display_name": "Python 3",
   "language": "python",
   "name": "python3"
  },
  "language_info": {
   "codemirror_mode": {
    "name": "ipython",
    "version": 3
   },
   "file_extension": ".py",
   "mimetype": "text/x-python",
   "name": "python",
   "nbconvert_exporter": "python",
   "pygments_lexer": "ipython3",
   "version": "3.5.2"
  },
  "widgets": {
   "state": {},
   "version": "1.1.2"
  }
 },
 "nbformat": 4,
 "nbformat_minor": 1
}
